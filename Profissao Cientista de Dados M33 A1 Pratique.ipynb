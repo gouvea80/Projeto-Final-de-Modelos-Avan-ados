{
 "nbformat": 4,
 "nbformat_minor": 0,
 "metadata": {
  "colab": {
   "provenance": []
  },
  "kernelspec": {
   "name": "python3",
   "display_name": "Python 3"
  },
  "language_info": {
   "name": "python"
  }
 },
 "cells": [
  {
   "cell_type": "markdown",
   "source": [
    "# **MÓDULO 33 - Projeto Final de Modelos Avançados**"
   ],
   "metadata": {
    "id": "y2fzPjyMc9N-"
   }
  },
  {
   "cell_type": "markdown",
   "source": [
    "**Objetivo do Projeto:**\n",
    "\n",
    "O objetivo deste projeto é aplicar os conceitos aprendidos nos módulos de conceitos avançados de modelagem para realizar uma segmentação de clientes utilizando o algoritmo de clustering K-Means. Ao final do projeto, você terá a oportunidade de consolidar seus conhecimentos em exploração de dados, pré-processamento, implementação e avaliação de modelos."
   ],
   "metadata": {
    "id": "eVGXJqYzdJg_"
   }
  },
  {
   "cell_type": "markdown",
   "source": [
    "**Exploração de Dados:**\n",
    "\n",
    "Inicie explorando o dataset fornecido, buscando entender as principais características das variáveis e a distribuição dos dados.\n",
    "\n",
    "Realize análises descritivas, identifique padrões, e verifique a presença de valores ausentes ou inconsistências que precisem ser tratadas.\n",
    "\n",
    "#Dimensão do dataset: verificar número de linhas (200 clientes) e colunas.\n",
    "\n",
    "Tipos de variáveis: categórica (Gender) e numéricas (Age, Annual Income (k$), Spending Score (1-100)).\n",
    "Estatísticas descritivas: média, mediana, mínimo, máximo, desvio padrão.\n",
    "Distribuição das variáveis: histogramas e boxplots.\n",
    "Análise de correlação: matriz de correlação para variáveis numéricas.\n",
    "Valores ausentes/inconsistências: verificar se há nulos ou registros duplicados.\n",
    "\n",
    "👉 Exemplo de interpretação:\n",
    "\n",
    "Idades variam entre 18 e 70 anos.\n",
    "Renda anual entre 15k e 137k.\n",
    "Spending Score distribuído uniformemente de 1 a 100.\n",
    "Gênero bem equilibrado (cerca de 50/50).\n",
    "\n",
    "MÓDULO 33 - Projeto Final de Modelos Avançados\n",
    "1 célula oculta\n",
    "Exploração de Dados:\n",
    "\n",
    "Inicie explorando o dataset fornecido, buscando entender as principais características das variáveis e a distribuição dos dados.\n",
    "\n",
    "Realize análises descritivas, identifique padrões, e verifique a presença de valores ausentes ou inconsistências que precisem ser tratadas.\n",
    "\n",
    "Dimensão do dataset: verificar número de linhas (200 clientes) e colunas.\n",
    "Tipos de variáveis: categórica (Gender) e numéricas (Age, Annual Income (k$), Spending Score (1-100)). Estatísticas descritivas: média, mediana, mínimo, máximo, desvio padrão. Distribuição das variáveis: histogramas e boxplots. Análise de correlação: matriz de correlação para variáveis numéricas. Valores ausentes/inconsistências: verificar se há nulos ou registros duplicados.\n",
    "\n",
    "👉 Exemplo de interpretação:\n",
    "\n",
    "Idades variam entre 18 e 70 anos. Renda anual entre 15k e 137k. Spending Score distribuído uniformemente de 1 a 100. Gênero bem equilibrado (cerca de 50/50).\n",
    "\n",
    "Tratamento de Dados:\n",
    "\n",
    "Realize os tratamentos necessários como limpeza de dados, normalização ou padronização das variáveis, e, se necessário, a criação de variáveis derivadas.\n",
    "\n",
    "Documente cada etapa do tratamento, explicando o motivo das escolhas feitas e como elas impactam no modelo.\n",
    "\n",
    "Valores ausentes: remover ou imputar (se existirem).\n",
    "Normalização/Padronização: O K-Means é sensível à escala. Aplicar StandardScaler (média=0, desvio=1) ou MinMaxScaler (0–1). Variáveis categóricas: Gender pode ser transformada em binária (0 = Male, 1 = Female). Seleção de variáveis: geralmente usamos Age, Annual Income, Spending Score.\n",
    "\n",
    "Podemos incluir Gender como dummy, mas avaliar impacto.\n",
    "\n",
    "👉 Justificativa: A padronização evita que variáveis em escalas diferentes (ex: idade em anos e renda em milhares de dólares) dominem o cálculo das distâncias.\n",
    "\n",
    "Renda anual entre 15k e 137k.\n",
    "\n",
    "Spending Score distribuído uniformemente de 1 a 100. Gênero bem equilibrado (cerca de 50/50).\n",
    "\n",
    "Implementação do Algoritmo K-Means:\n",
    "\n",
    "Aplique o algoritmo K-Means no dataset tratado. Defina o número de clusters (k). Execute o algoritmo, ajuste os parâmetros conforme necessário, e documente o processo.\n",
    "\n",
    "Determinar o número ideal de clusters (k):\n",
    "Método do Cotovelo (Elbow Method) → analisar a inércia (SSE). Método da Silhueta (Silhouette Score) → avaliar a coesão e separação dos clusters. Rodar o modelo:\n",
    "\n",
    "Exemplo: KMeans(n_clusters=5, random_state=42)\n",
    "\n",
    "Ajustar hiperparâmetros: init (k-means++), max_iter, n_init.\n",
    "\n",
    "Atribuir cluster a cada cliente: adicionar coluna Cluster ao dataset.\n",
    "\n",
    "👉 Exemplo: Método do cotovelo sugere k=5 clusters. Silhouette confirma que 5 é um bom valor (score ~0.55).\n",
    "\n",
    "Avaliação e Interpretação dos Resultados:\n",
    "\n",
    "Avalie a qualidade dos clusters gerados utilizando métricas adequadas.\n",
    "\n",
    "Interprete os resultados, descrevendo as características de cada cluster e como eles podem ser utilizados para a segmentação de clientes.\n",
    "\n",
    "Sugira aplicações práticas para os clusters identificados, como estratégias de marketing direcionadas ou personalização de ofertas.\n",
    "\n",
    "Métricas:\n",
    "Inércia (SSE): soma das distâncias ao centroide. Silhouette Score: mede qualidade dos clusters (−1 a 1). Interpretação dos Clusters: Descrever cada cluster em termos de idade, renda e score de gastos.\n",
    "\n",
    "👉 Exemplo de segmentação (hipotético):\n",
    "\n",
    "Cluster 0: Jovens, alta renda, alto Spending Score → clientes VIPs. Cluster 1: Adultos, baixa renda, baixo Spending Score → clientes pouco rentáveis. Cluster 2: Média idade, renda média, score médio → clientes regulares. Cluster 3: Jovens, baixa renda, alto Spending Score → gastam muito mesmo sem alta renda. Cluster 4: Alta renda, baixo Spending Score → clientes exigentes mas que não consomem tanto.\n",
    "\n",
    "O dataset a ser utilizado neste projeto contém informações de 200 clientes, com os seguintes atributos:\n",
    "\n",
    "CustomerID: Identificador único atribuído a cada cliente.\n",
    "\n",
    "Gender: Gênero do cliente.\n",
    "\n",
    "Age: Idade do cliente.\n",
    "\n",
    "Annual Income (k$): Renda anual do cliente em milhares de dólares.\n",
    "\n",
    "Spending Score (1-100): Pontuação atribuída pelo shopping com base no comportamento e padrão de gastos do cliente.\n",
    "\n",
    "Marketing Direcionado:\n",
    "VIPs → ofertas exclusivas, programas de fidelidade. Baixo score → campanhas de engajamento. Alta renda/baixo score → estratégias para aumentar retenção. Personalização de Ofertas: Recomendação de produtos de acordo com perfil do cluster. Ofertas segmentadas (ex: descontos para quem tem renda média e score médio).\n",
    "\n",
    "Tomada de decisão empresarial:\n",
    "\n",
    "Identificação de potenciais clientes de alto valor. Estratégias diferenciadas para retenção e aquisição.\n",
    "\n",
    "Notem que neste projeto vocês terão autonomia para criar os passos e justificar, sempre, os passos escolhidos.\n",
    "\n"
   ],
   "metadata": {
    "id": "FSfCUC1zdnDR"
   }
  },
  {
   "cell_type": "markdown",
   "source": [
    "**Tratamento de Dados:**\n",
    "\n",
    "Realize os tratamentos necessários como limpeza de dados, normalização ou padronização das variáveis, e, se necessário, a criação de variáveis derivadas.\n",
    "\n",
    "Documente cada etapa do tratamento, explicando o motivo das escolhas feitas e como elas impactam no modelo.\n",
    "\n",
    "#Valores ausentes: remover ou imputar (se existirem).\n",
    "\n",
    "Normalização/Padronização:\n",
    "O K-Means é sensível à escala.\n",
    "Aplicar StandardScaler (média=0, desvio=1) ou MinMaxScaler (0–1).\n",
    "Variáveis categóricas: Gender pode ser transformada em binária (0 = Male, 1 = Female).\n",
    "Seleção de variáveis: geralmente usamos Age, Annual Income, Spending Score.\n",
    "\n",
    "Podemos incluir Gender como dummy, mas avaliar impacto.\n",
    "\n",
    "👉 Justificativa:\n",
    "A padronização evita que variáveis em escalas diferentes (ex: idade em anos e renda em milhares de dólares) dominem o cálculo das distâncias.\n",
    "\n",
    "Renda anual entre 15k e 137k.\n",
    "\n",
    "Spending Score distribuído uniformemente de 1 a 100.\n",
    "Gênero bem equilibrado (cerca de 50/50).\n",
    "\n",
    "import pandas as pd\n",
    "import numpy as np\n",
    "import matplotlib.pyplot as plt\n",
    "import seaborn as sns\n",
    "\n",
    "from sklearn.preprocessing import StandardScaler\n",
    "from sklearn.cluster import KMeans\n",
    "from sklearn.metrics import silhouette_score\n",
    "\n",
    "# Carregar dataset\n",
    "df = pd.read_csv(\"Mall_Customers.csv\")\n",
    "\n",
    "# Verificar dados\n",
    "print(df.shape)\n",
    "print(df.info())\n",
    "print(df.head())"
   ],
   "metadata": {
    "id": "5UJZEXwXdrrK"
   }
  },
  {
   "cell_type": "markdown",
   "source": [
    "**Implementação do Algoritmo K-Means:**\n",
    "\n",
    "Aplique o algoritmo K-Means no dataset tratado. Defina o número de clusters (k).\n",
    "Execute o algoritmo, ajuste os parâmetros conforme necessário, e documente o processo.\n",
    "\n",
    "#Determinar o número ideal de clusters (k):\n",
    "\n",
    "Método do Cotovelo (Elbow Method) → analisar a inércia (SSE).\n",
    "Método da Silhueta (Silhouette Score) → avaliar a coesão e separação dos clusters.\n",
    "Rodar o modelo:\n",
    "\n",
    "Exemplo: KMeans(n_clusters=5, random_state=42)\n",
    "\n",
    "Ajustar hiperparâmetros: init (k-means++), max_iter, n_init.\n",
    "\n",
    "Atribuir cluster a cada cliente: adicionar coluna Cluster ao dataset.\n",
    "\n",
    "👉 Exemplo:\n",
    "Método do cotovelo sugere k=5 clusters.\n",
    "Silhouette confirma que 5 é um bom valor (score ~0.55)."
   ],
   "metadata": {
    "id": "tm2bQ7LLdyFe"
   }
  },
  {
   "cell_type": "markdown",
   "source": [
    "**Avaliação e Interpretação dos Resultados:**\n",
    "\n",
    "Avalie a qualidade dos clusters gerados utilizando métricas adequadas.\n",
    "\n",
    "Interprete os resultados, descrevendo as características de cada cluster e como eles podem ser utilizados para a segmentação de clientes.\n",
    "\n",
    "Sugira aplicações práticas para os clusters identificados, como estratégias de marketing direcionadas ou personalização de ofertas.\n",
    "\n",
    "#Métricas:\n",
    "\n",
    "Inércia (SSE): soma das distâncias ao centroide.\n",
    "Silhouette Score: mede qualidade dos clusters (−1 a 1).\n",
    "Interpretação dos Clusters:\n",
    "Descrever cada cluster em termos de idade, renda e score de gastos.\n",
    "\n",
    "👉 Exemplo de segmentação (hipotético):\n",
    "\n",
    "Cluster 0: Jovens, alta renda, alto Spending Score → clientes VIPs.\n",
    "Cluster 1: Adultos, baixa renda, baixo Spending Score → clientes pouco rentáveis.\n",
    "Cluster 2: Média idade, renda média, score médio → clientes regulares.\n",
    "Cluster 3: Jovens, baixa renda, alto Spending Score → gastam muito mesmo sem alta renda.\n",
    "Cluster 4: Alta renda, baixo Spending Score → clientes exigentes mas que não consomem tanto."
   ],
   "metadata": {
    "id": "posaN_Ihd40d"
   }
  },
  {
   "cell_type": "markdown",
   "source": [
    "**O dataset a ser utilizado neste projeto contém informações de 200 clientes, com os seguintes atributos:**\n",
    "\n",
    "CustomerID: Identificador único atribuído a cada cliente.\n",
    "\n",
    "Gender: Gênero do cliente.\n",
    "\n",
    "Age: Idade do cliente.\n",
    "\n",
    "Annual Income (k$): Renda anual do cliente em milhares de dólares.\n",
    "\n",
    "Spending Score (1-100): Pontuação atribuída pelo shopping com base no\n",
    "comportamento e padrão de gastos do cliente.\n",
    "\n",
    "#Marketing Direcionado:\n",
    "\n",
    "VIPs → ofertas exclusivas, programas de fidelidade.\n",
    "Baixo score → campanhas de engajamento.\n",
    "Alta renda/baixo score → estratégias para aumentar retenção.\n",
    "Personalização de Ofertas:\n",
    "Recomendação de produtos de acordo com perfil do cluster.\n",
    "Ofertas segmentadas (ex: descontos para quem tem renda média e score médio).\n",
    "\n",
    "Tomada de decisão empresarial:\n",
    "\n",
    "Identificação de potenciais clientes de alto valor.\n",
    "Estratégias diferenciadas para retenção e aquisição."
   ],
   "metadata": {
    "id": "X7lO1BL4klON"
   }
  },
  {
   "cell_type": "markdown",
   "source": [
    "Notem que neste projeto vocês terão autonomia para criar os passos e justificar, sempre, os passos escolhidos."
   ],
   "metadata": {
    "id": "DGVtJ9HEeDqG"
   }
  }
 ]
}
